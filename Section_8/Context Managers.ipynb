{
 "cells": [
  {
   "cell_type": "markdown",
   "metadata": {},
   "source": [
    "# Context Managers"
   ]
  },
  {
   "cell_type": "code",
   "execution_count": 1,
   "metadata": {},
   "outputs": [
    {
     "name": "stdout",
     "output_type": "stream",
     "text": [
      "First line of file is \n"
     ]
    }
   ],
   "source": [
    "file_ptr2 = open(\"test.txt\", \"w\")\n",
    "file_ptr2.write(\"Hello World\")\n",
    "\n",
    "file_ptr1 = open(\"test.txt\", \"r\")\n",
    "first_line = file_ptr1.readline()\n",
    "print(\"First line of file is {}\".format(first_line))\n",
    "\n"
   ]
  },
  {
   "cell_type": "code",
   "execution_count": 2,
   "metadata": {},
   "outputs": [
    {
     "name": "stdout",
     "output_type": "stream",
     "text": [
      "First line of file is Hello World\n"
     ]
    }
   ],
   "source": [
    "file_ptr2.close()\n",
    "file_ptr1.close()\n",
    "\n",
    "file_ptr1 = open(\"test.txt\", \"r\")\n",
    "\n",
    "first_line = file_ptr1.readline()\n",
    "print(\"First line of file is {}\".format(first_line))\n",
    "\n",
    "file_ptr1.close()"
   ]
  },
  {
   "cell_type": "code",
   "execution_count": 6,
   "metadata": {},
   "outputs": [
    {
     "name": "stdout",
     "output_type": "stream",
     "text": [
      "First line written successfully\n",
      "Hello World\n",
      "First line read successfully\n"
     ]
    }
   ],
   "source": [
    "with open('test.txt', 'w') as file_ptr:\n",
    "    file_ptr.write(\"Hello World\")\n",
    "    print(\"First line written successfully\")\n",
    "\n",
    "with open('test.txt', 'r') as file_ptr:\n",
    "    print(file_ptr.readline())\n",
    "    print(\"First line read successfully\")"
   ]
  },
  {
   "cell_type": "markdown",
   "metadata": {},
   "source": [
    "## Class Structure for Context Manager"
   ]
  },
  {
   "cell_type": "code",
   "execution_count": null,
   "metadata": {},
   "outputs": [],
   "source": [
    "class ContextManagerClass:\n",
    "    def __init__(self, *params):\n",
    "        # Initialize the class member\n",
    "        pass\n",
    "        \n",
    "    def __enter__(self):\n",
    "        # Called after the Context Manager \n",
    "        # has initialized it's members\n",
    "        pass\n",
    "    \n",
    "    def __exit__(self, *exc):\n",
    "        # Called when exiting the 'with' statement\n",
    "        # or exiting the block of context manager\n",
    "        pass"
   ]
  },
  {
   "cell_type": "code",
   "execution_count": 7,
   "metadata": {},
   "outputs": [],
   "source": [
    "class WriteEndContextManager:\n",
    "    def __init__(self, file_name, last_line):\n",
    "        print(\"Inside Init Method\")\n",
    "        self.file_name = file_name\n",
    "        self.last_line = last_line\n",
    "        self.file_ptr = None\n",
    "        \n",
    "    def __enter__(self):\n",
    "        print(\"Inside Enter method\")\n",
    "        self.file_ptr = open(self.file_name, 'w')\n",
    "        print(\"File opened sucessfully!\")\n",
    "        return self.file_ptr\n",
    "    \n",
    "    def __exit__(self, exception_type, exception_value, exeception_trace):\n",
    "        print(\"Inside exit function\")\n",
    "        self.file_ptr.write(self.last_line)\n",
    "        self.file_ptr.close()\n",
    "        print(\"Now exiting the exit function!\")\n",
    "        "
   ]
  },
  {
   "cell_type": "code",
   "execution_count": 9,
   "metadata": {},
   "outputs": [
    {
     "name": "stdout",
     "output_type": "stream",
     "text": [
      "Inside Init Method\n",
      "Inside Enter method\n",
      "File opened sucessfully!\n",
      "Enter the Context Manager Block\n",
      "Exiting the Context Manager Block\n",
      "Inside exit function\n",
      "Now exiting the exit function!\n"
     ]
    }
   ],
   "source": [
    "with WriteEndContextManager('test.txt', \"YOLOSWAG\") as f:\n",
    "    print(\"Enter the Context Manager Block\")\n",
    "    f.write(\"This is a test\\n\")\n",
    "    print(\"Exiting the Context Manager Block\")"
   ]
  },
  {
   "cell_type": "code",
   "execution_count": 10,
   "metadata": {},
   "outputs": [
    {
     "name": "stdout",
     "output_type": "stream",
     "text": [
      "This is a test\n",
      "\n",
      "YOLOSWAG\n"
     ]
    }
   ],
   "source": [
    "\n",
    "def print_lines(file_name):\n",
    "    with open(file_name) as f:\n",
    "        lines = f.readlines()\n",
    "        for line in lines:\n",
    "            print(line)\n",
    "\n",
    "print_lines('test.txt')"
   ]
  },
  {
   "cell_type": "code",
   "execution_count": 11,
   "metadata": {},
   "outputs": [],
   "source": [
    "class WriteEndContextManagerExec:\n",
    "    def __init__(self, file_name, last_line):\n",
    "        print(\"Inside Init Method\")\n",
    "        self.file_name = file_name\n",
    "        self.last_line = last_line\n",
    "        self.file_ptr = None\n",
    "        \n",
    "    def __enter__(self):\n",
    "        print(\"Inside Enter method\")\n",
    "        self.file_ptr = open(self.file_name, 'w')\n",
    "        print(\"File opened sucessfully!\")\n",
    "        return self.file_ptr\n",
    "    \n",
    "    def __exit__(self, exception_type, exception_value, exception_trace):\n",
    "        print(\"Inside exit function\")\n",
    "        self.file_ptr.write(self.last_line)\n",
    "        \n",
    "        \n",
    "        print(\"Checking for exception\")\n",
    "        if exception_type:\n",
    "            print(\"Exception Type is {}\".format(exception_type))\n",
    "            print(\"Exception Value is {}\".format(exception_value))\n",
    "            print(\"Exception Traceback is {}\".format(exception_trace))\n",
    "        \n",
    "        self.file_ptr.close()\n",
    "        \n",
    "        print(\"Now exiting the exit function!\")\n",
    "        "
   ]
  },
  {
   "cell_type": "code",
   "execution_count": 12,
   "metadata": {},
   "outputs": [
    {
     "name": "stdout",
     "output_type": "stream",
     "text": [
      "Inside Init Method\n",
      "Inside Enter method\n",
      "File opened sucessfully!\n",
      "Inside exit function\n",
      "Checking for exception\n",
      "Exception Type is <class 'TypeError'>\n",
      "Exception Value is can only concatenate str (not \"int\") to str\n",
      "Exception Traceback is <traceback object at 0x7fd3aa758188>\n",
      "Now exiting the exit function!\n"
     ]
    },
    {
     "ename": "TypeError",
     "evalue": "can only concatenate str (not \"int\") to str",
     "output_type": "error",
     "traceback": [
      "\u001b[0;31m---------------------------------------------------------------------------\u001b[0m",
      "\u001b[0;31mTypeError\u001b[0m                                 Traceback (most recent call last)",
      "\u001b[0;32m<ipython-input-12-ceef98128a1c>\u001b[0m in \u001b[0;36m<module>\u001b[0;34m\u001b[0m\n\u001b[1;32m      1\u001b[0m \u001b[0;32mwith\u001b[0m \u001b[0mWriteEndContextManagerExec\u001b[0m\u001b[0;34m(\u001b[0m\u001b[0;34m\"test.txt\"\u001b[0m\u001b[0;34m,\u001b[0m \u001b[0;34m\"some line added\"\u001b[0m\u001b[0;34m)\u001b[0m \u001b[0;32mas\u001b[0m \u001b[0mf\u001b[0m\u001b[0;34m:\u001b[0m\u001b[0;34m\u001b[0m\u001b[0;34m\u001b[0m\u001b[0m\n\u001b[1;32m      2\u001b[0m     \u001b[0mf\u001b[0m\u001b[0;34m.\u001b[0m\u001b[0mwrite\u001b[0m\u001b[0;34m(\u001b[0m\u001b[0;34m\"Hello World\\n\"\u001b[0m\u001b[0;34m)\u001b[0m\u001b[0;34m\u001b[0m\u001b[0;34m\u001b[0m\u001b[0m\n\u001b[0;32m----> 3\u001b[0;31m     \u001b[0mx\u001b[0m \u001b[0;34m=\u001b[0m \u001b[0;34m's'\u001b[0m \u001b[0;34m+\u001b[0m \u001b[0;36m2\u001b[0m\u001b[0;34m\u001b[0m\u001b[0;34m\u001b[0m\u001b[0m\n\u001b[0m",
      "\u001b[0;31mTypeError\u001b[0m: can only concatenate str (not \"int\") to str"
     ]
    }
   ],
   "source": [
    "with WriteEndContextManagerExec(\"test.txt\", \"some line added\") as f:\n",
    "    f.write(\"Hello World\\n\")\n",
    "    x = 's' + 2"
   ]
  },
  {
   "cell_type": "code",
   "execution_count": 13,
   "metadata": {},
   "outputs": [
    {
     "name": "stdout",
     "output_type": "stream",
     "text": [
      "Hello World\n",
      "\n",
      "some line added\n"
     ]
    }
   ],
   "source": [
    "print_lines('test.txt')"
   ]
  },
  {
   "cell_type": "code",
   "execution_count": 16,
   "metadata": {},
   "outputs": [
    {
     "name": "stdout",
     "output_type": "stream",
     "text": [
      "Inside Init Method\n",
      "Inside Enter method\n",
      "File opened sucessfully!\n",
      "Inside exit function\n",
      "Checking for exception\n",
      "Exception Type is <class 'NameError'>\n",
      "Exception Value is Context Managers are cool!\n",
      "Exception Traceback is <traceback object at 0x7fd3a9bcff88>\n",
      "Now exiting the exit function!\n"
     ]
    },
    {
     "ename": "NameError",
     "evalue": "Context Managers are cool!",
     "output_type": "error",
     "traceback": [
      "\u001b[0;31m---------------------------------------------------------------------------\u001b[0m",
      "\u001b[0;31mNameError\u001b[0m                                 Traceback (most recent call last)",
      "\u001b[0;32m<ipython-input-16-366cd34ec19d>\u001b[0m in \u001b[0;36m<module>\u001b[0;34m\u001b[0m\n\u001b[1;32m      1\u001b[0m \u001b[0;32mwith\u001b[0m \u001b[0mWriteEndContextManagerExec\u001b[0m\u001b[0;34m(\u001b[0m\u001b[0;34m\"test.txt\"\u001b[0m\u001b[0;34m,\u001b[0m \u001b[0;34m\"some other line added\"\u001b[0m\u001b[0;34m)\u001b[0m \u001b[0;32mas\u001b[0m \u001b[0mf\u001b[0m\u001b[0;34m:\u001b[0m\u001b[0;34m\u001b[0m\u001b[0;34m\u001b[0m\u001b[0m\n\u001b[1;32m      2\u001b[0m     \u001b[0mf\u001b[0m\u001b[0;34m.\u001b[0m\u001b[0mwrite\u001b[0m\u001b[0;34m(\u001b[0m\u001b[0;34m\"Goodbye World\\n\"\u001b[0m\u001b[0;34m)\u001b[0m\u001b[0;34m\u001b[0m\u001b[0;34m\u001b[0m\u001b[0m\n\u001b[0;32m----> 3\u001b[0;31m     \u001b[0;32mraise\u001b[0m \u001b[0mNameError\u001b[0m\u001b[0;34m(\u001b[0m\u001b[0;34m\"Context Managers are cool!\"\u001b[0m\u001b[0;34m)\u001b[0m\u001b[0;34m\u001b[0m\u001b[0;34m\u001b[0m\u001b[0m\n\u001b[0m",
      "\u001b[0;31mNameError\u001b[0m: Context Managers are cool!"
     ]
    }
   ],
   "source": [
    "with WriteEndContextManagerExec(\"test.txt\", \"some other line added\") as f:\n",
    "    f.write(\"Goodbye World\\n\")\n",
    "    raise NameError(\"Context Managers are cool!\")"
   ]
  },
  {
   "cell_type": "code",
   "execution_count": 17,
   "metadata": {},
   "outputs": [
    {
     "name": "stdout",
     "output_type": "stream",
     "text": [
      "Goodbye World\n",
      "\n",
      "some other line added\n"
     ]
    }
   ],
   "source": [
    "print_lines('test.txt')"
   ]
  },
  {
   "cell_type": "code",
   "execution_count": 18,
   "metadata": {},
   "outputs": [],
   "source": [
    "from contextlib import contextmanager\n",
    "\n",
    "@contextmanager\n",
    "def shorter_WECM(file_name, last_line):\n",
    "    # Start of __enter__ method\n",
    "    file_ptr = open(file_name, 'w')\n",
    "    # End of __enter__method\n",
    "    try:\n",
    "        # Equivalent of return in __enter__ method\n",
    "        yield file_ptr\n",
    "        \n",
    "    finally:\n",
    "        \n",
    "        # Contents of __exit__method\n",
    "        file_ptr.write(last_line)\n",
    "        file_ptr.close()"
   ]
  },
  {
   "cell_type": "code",
   "execution_count": 19,
   "metadata": {},
   "outputs": [],
   "source": [
    "with shorter_WECM(\"test.txt\", \"some last line added\") as f:\n",
    "    f.write(\"Shorter version of Context Manager\\n\")"
   ]
  },
  {
   "cell_type": "code",
   "execution_count": 20,
   "metadata": {},
   "outputs": [
    {
     "name": "stdout",
     "output_type": "stream",
     "text": [
      "Shorter version of Context Manager\n",
      "\n",
      "some last line added\n"
     ]
    }
   ],
   "source": [
    "print_lines('test.txt')"
   ]
  },
  {
   "cell_type": "code",
   "execution_count": null,
   "metadata": {},
   "outputs": [],
   "source": []
  }
 ],
 "metadata": {
  "kernelspec": {
   "display_name": "Python 3",
   "language": "python",
   "name": "python3"
  },
  "language_info": {
   "codemirror_mode": {
    "name": "ipython",
    "version": 3
   },
   "file_extension": ".py",
   "mimetype": "text/x-python",
   "name": "python",
   "nbconvert_exporter": "python",
   "pygments_lexer": "ipython3",
   "version": "3.7.1"
  }
 },
 "nbformat": 4,
 "nbformat_minor": 2
}
