{
 "cells": [
  {
   "cell_type": "markdown",
   "metadata": {},
   "source": [
    "# Choosing the right Data Structure"
   ]
  },
  {
   "cell_type": "markdown",
   "metadata": {},
   "source": [
    "***Reference*** : https://wiki.python.org/moin/TimeComplexity"
   ]
  },
  {
   "cell_type": "markdown",
   "metadata": {},
   "source": [
    "1. Counter\n",
    "2. Double Ended Queue (Dequeue)\n",
    "3. Default Dict"
   ]
  },
  {
   "cell_type": "code",
   "execution_count": 1,
   "metadata": {},
   "outputs": [],
   "source": [
    "nums = [1, 1, 2, 5, 5, 2, 2, 6, 1, 10, 2, 9, 6]"
   ]
  },
  {
   "cell_type": "code",
   "execution_count": 2,
   "metadata": {},
   "outputs": [],
   "source": [
    "count_dict = {}\n",
    "\n",
    "for elem in nums:\n",
    "    # If element exists in the dictionary,\n",
    "    # then increment count by 1\n",
    "    if count_dict.get(elem, None):\n",
    "        count_dict[elem] += 1\n",
    "    # Else set the value to 1\n",
    "    else:\n",
    "        count_dict[elem] = 1"
   ]
  },
  {
   "cell_type": "code",
   "execution_count": 3,
   "metadata": {},
   "outputs": [
    {
     "data": {
      "text/plain": [
       "{1: 3, 2: 4, 5: 2, 6: 2, 10: 1, 9: 1}"
      ]
     },
     "execution_count": 3,
     "metadata": {},
     "output_type": "execute_result"
    }
   ],
   "source": [
    "count_dict"
   ]
  },
  {
   "cell_type": "code",
   "execution_count": 4,
   "metadata": {},
   "outputs": [
    {
     "name": "stdout",
     "output_type": "stream",
     "text": [
      "Counter({2: 4, 1: 3, 5: 2, 6: 2, 10: 1, 9: 1})\n"
     ]
    }
   ],
   "source": [
    "from collections import Counter\n",
    "\n",
    "nums_counter = Counter(nums)\n",
    "\n",
    "print(nums_counter)"
   ]
  },
  {
   "cell_type": "code",
   "execution_count": 5,
   "metadata": {},
   "outputs": [
    {
     "data": {
      "text/plain": [
       "2"
      ]
     },
     "execution_count": 5,
     "metadata": {},
     "output_type": "execute_result"
    }
   ],
   "source": [
    "nums_counter[5]"
   ]
  },
  {
   "cell_type": "code",
   "execution_count": 7,
   "metadata": {},
   "outputs": [
    {
     "data": {
      "text/plain": [
       "1"
      ]
     },
     "execution_count": 7,
     "metadata": {},
     "output_type": "execute_result"
    }
   ],
   "source": [
    "nums_counter[10]"
   ]
  },
  {
   "cell_type": "markdown",
   "metadata": {},
   "source": [
    "#### Returns the k most common elements"
   ]
  },
  {
   "cell_type": "code",
   "execution_count": 9,
   "metadata": {},
   "outputs": [
    {
     "data": {
      "text/plain": [
       "Counter({1: 3, 2: 4, 5: 2, 6: 2, 10: 1, 9: 1})"
      ]
     },
     "execution_count": 9,
     "metadata": {},
     "output_type": "execute_result"
    }
   ],
   "source": [
    "nums_counter"
   ]
  },
  {
   "cell_type": "code",
   "execution_count": 8,
   "metadata": {},
   "outputs": [
    {
     "data": {
      "text/plain": [
       "[(2, 4), (1, 3)]"
      ]
     },
     "execution_count": 8,
     "metadata": {},
     "output_type": "execute_result"
    }
   ],
   "source": [
    "nums_counter.most_common(2)"
   ]
  },
  {
   "cell_type": "code",
   "execution_count": 6,
   "metadata": {},
   "outputs": [
    {
     "data": {
      "text/plain": [
       "0"
      ]
     },
     "execution_count": 6,
     "metadata": {},
     "output_type": "execute_result"
    }
   ],
   "source": [
    "nums_counter[-1]"
   ]
  },
  {
   "cell_type": "code",
   "execution_count": 10,
   "metadata": {},
   "outputs": [],
   "source": [
    "nums_pt2 = [9, 10, 9, 5, 7, 5, 5, 2, 1]"
   ]
  },
  {
   "cell_type": "code",
   "execution_count": 11,
   "metadata": {},
   "outputs": [
    {
     "data": {
      "text/plain": [
       "Counter({1: 3, 2: 4, 5: 2, 6: 2, 10: 1, 9: 1})"
      ]
     },
     "execution_count": 11,
     "metadata": {},
     "output_type": "execute_result"
    }
   ],
   "source": [
    "nums_counter"
   ]
  },
  {
   "cell_type": "code",
   "execution_count": 12,
   "metadata": {},
   "outputs": [],
   "source": [
    "nums_counter.update(nums_pt2)"
   ]
  },
  {
   "cell_type": "code",
   "execution_count": 13,
   "metadata": {},
   "outputs": [
    {
     "data": {
      "text/plain": [
       "Counter({1: 4, 2: 5, 5: 5, 6: 2, 10: 2, 9: 3, 7: 1})"
      ]
     },
     "execution_count": 13,
     "metadata": {},
     "output_type": "execute_result"
    }
   ],
   "source": [
    "nums_counter"
   ]
  },
  {
   "cell_type": "markdown",
   "metadata": {},
   "source": [
    "# Dequeue"
   ]
  },
  {
   "cell_type": "code",
   "execution_count": 14,
   "metadata": {},
   "outputs": [
    {
     "name": "stdout",
     "output_type": "stream",
     "text": [
      "4.704251289367676\n"
     ]
    }
   ],
   "source": [
    "import time \n",
    "\n",
    "start = time.time()\n",
    "\n",
    "queue_length = 200000\n",
    "simple_queue = list(range(queue_length))\n",
    "\n",
    "for idx in range(queue_length):\n",
    "    simple_queue.pop(0)\n",
    "    \n",
    "end = time.time()\n",
    "print(end-start)"
   ]
  },
  {
   "cell_type": "code",
   "execution_count": 15,
   "metadata": {},
   "outputs": [
    {
     "name": "stdout",
     "output_type": "stream",
     "text": [
      "0.03490757942199707\n"
     ]
    }
   ],
   "source": [
    "from collections import deque\n",
    "\n",
    "start = time.time()\n",
    "\n",
    "efficient_queue = deque(range(500000))\n",
    "for idx in range(queue_length):\n",
    "    efficient_queue.popleft()\n",
    "    \n",
    "end = time.time()\n",
    "print(end-start)"
   ]
  },
  {
   "cell_type": "code",
   "execution_count": 17,
   "metadata": {},
   "outputs": [],
   "source": [
    "class FifoCache:\n",
    "    def __init__(self):\n",
    "        self.cache = deque()\n",
    "    \n",
    "    def insert_in_cache(self, item):\n",
    "        self.cache.append(item)\n",
    "    \n",
    "    def pop_cache(self):\n",
    "        if self.cache:\n",
    "            item = self.cache.popleft()\n",
    "            print(\"%d deleted successfully.\" % (item))\n",
    "        else:\n",
    "            raise IndexError(\"Popping from empty Cache!\")\n",
    "\n",
    "    def print_cache(self):\n",
    "        print(\"Printing contents of cache\")\n",
    "        for idx, item in enumerate(self.cache):\n",
    "            print(\"Item at %d position is %d\" % (idx, item))\n"
   ]
  },
  {
   "cell_type": "code",
   "execution_count": 23,
   "metadata": {},
   "outputs": [
    {
     "name": "stdout",
     "output_type": "stream",
     "text": [
      "Printing contents of cache\n",
      "Item at 0 position is 0\n",
      "Item at 1 position is 1\n",
      "Item at 2 position is 2\n",
      "Item at 3 position is 3\n",
      "Item at 4 position is 4\n",
      "Item at 5 position is 5\n",
      "Item at 6 position is 6\n",
      "Item at 7 position is 7\n",
      "Item at 8 position is 8\n",
      "Item at 9 position is 9\n"
     ]
    }
   ],
   "source": [
    "my_cache = FifoCache()\n",
    "\n",
    "for x in range(10):\n",
    "    my_cache.insert_in_cache(x)\n",
    "\n",
    "my_cache.print_cache()"
   ]
  },
  {
   "cell_type": "code",
   "execution_count": 24,
   "metadata": {},
   "outputs": [
    {
     "name": "stdout",
     "output_type": "stream",
     "text": [
      "0 deleted successfully.\n",
      "1 deleted successfully.\n",
      "2 deleted successfully.\n",
      "\n",
      "New elements of Cache are \n",
      "\n",
      "Printing contents of cache\n",
      "Item at 0 position is 3\n",
      "Item at 1 position is 4\n",
      "Item at 2 position is 5\n",
      "Item at 3 position is 6\n",
      "Item at 4 position is 7\n",
      "Item at 5 position is 8\n",
      "Item at 6 position is 9\n"
     ]
    }
   ],
   "source": [
    "my_cache.pop_cache()\n",
    "my_cache.pop_cache()\n",
    "my_cache.pop_cache()\n",
    "print(\"\\nNew elements of Cache are \\n\")\n",
    "my_cache.print_cache()"
   ]
  },
  {
   "cell_type": "code",
   "execution_count": 25,
   "metadata": {},
   "outputs": [
    {
     "name": "stdout",
     "output_type": "stream",
     "text": [
      "3 deleted successfully.\n",
      "4 deleted successfully.\n",
      "5 deleted successfully.\n",
      "6 deleted successfully.\n",
      "7 deleted successfully.\n",
      "8 deleted successfully.\n",
      "9 deleted successfully.\n"
     ]
    },
    {
     "ename": "IndexError",
     "evalue": "Popping from empty Cache!",
     "output_type": "error",
     "traceback": [
      "\u001b[0;31m---------------------------------------------------------------------------\u001b[0m",
      "\u001b[0;31mIndexError\u001b[0m                                Traceback (most recent call last)",
      "\u001b[0;32m<ipython-input-25-b7ad63bf596f>\u001b[0m in \u001b[0;36m<module>\u001b[0;34m\u001b[0m\n\u001b[1;32m      1\u001b[0m \u001b[0;32mfor\u001b[0m \u001b[0mx\u001b[0m \u001b[0;32min\u001b[0m \u001b[0mrange\u001b[0m\u001b[0;34m(\u001b[0m\u001b[0;36m10\u001b[0m\u001b[0;34m)\u001b[0m\u001b[0;34m:\u001b[0m\u001b[0;34m\u001b[0m\u001b[0;34m\u001b[0m\u001b[0m\n\u001b[0;32m----> 2\u001b[0;31m     \u001b[0mmy_cache\u001b[0m\u001b[0;34m.\u001b[0m\u001b[0mpop_cache\u001b[0m\u001b[0;34m(\u001b[0m\u001b[0;34m)\u001b[0m\u001b[0;34m\u001b[0m\u001b[0;34m\u001b[0m\u001b[0m\n\u001b[0m",
      "\u001b[0;32m<ipython-input-17-a5d511fad9a7>\u001b[0m in \u001b[0;36mpop_cache\u001b[0;34m(self)\u001b[0m\n\u001b[1;32m     11\u001b[0m             \u001b[0mprint\u001b[0m\u001b[0;34m(\u001b[0m\u001b[0;34m\"%d deleted successfully.\"\u001b[0m \u001b[0;34m%\u001b[0m \u001b[0;34m(\u001b[0m\u001b[0mitem\u001b[0m\u001b[0;34m)\u001b[0m\u001b[0;34m)\u001b[0m\u001b[0;34m\u001b[0m\u001b[0;34m\u001b[0m\u001b[0m\n\u001b[1;32m     12\u001b[0m         \u001b[0;32melse\u001b[0m\u001b[0;34m:\u001b[0m\u001b[0;34m\u001b[0m\u001b[0;34m\u001b[0m\u001b[0m\n\u001b[0;32m---> 13\u001b[0;31m             \u001b[0;32mraise\u001b[0m \u001b[0mIndexError\u001b[0m\u001b[0;34m(\u001b[0m\u001b[0;34m\"Popping from empty Cache!\"\u001b[0m\u001b[0;34m)\u001b[0m\u001b[0;34m\u001b[0m\u001b[0;34m\u001b[0m\u001b[0m\n\u001b[0m\u001b[1;32m     14\u001b[0m \u001b[0;34m\u001b[0m\u001b[0m\n\u001b[1;32m     15\u001b[0m     \u001b[0;32mdef\u001b[0m \u001b[0mprint_cache\u001b[0m\u001b[0;34m(\u001b[0m\u001b[0mself\u001b[0m\u001b[0;34m)\u001b[0m\u001b[0;34m:\u001b[0m\u001b[0;34m\u001b[0m\u001b[0;34m\u001b[0m\u001b[0m\n",
      "\u001b[0;31mIndexError\u001b[0m: Popping from empty Cache!"
     ]
    }
   ],
   "source": [
    "for x in range(10):\n",
    "    my_cache.pop_cache()"
   ]
  },
  {
   "cell_type": "code",
   "execution_count": null,
   "metadata": {},
   "outputs": [],
   "source": []
  },
  {
   "cell_type": "markdown",
   "metadata": {},
   "source": [
    "# Default Dict"
   ]
  },
  {
   "cell_type": "code",
   "execution_count": 26,
   "metadata": {},
   "outputs": [],
   "source": [
    "count_dict = {}\n",
    "\n",
    "for elem in nums:\n",
    "    # If element exists in the dictionary,\n",
    "    # then increment count by 1\n",
    "    if count_dict.get(elem, None):\n",
    "        count_dict[elem] += 1\n",
    "    # Else set the value to 1\n",
    "    else:\n",
    "        count_dict[elem] = 1"
   ]
  },
  {
   "cell_type": "code",
   "execution_count": 27,
   "metadata": {},
   "outputs": [],
   "source": [
    "from collections import defaultdict\n",
    "\n",
    "count_dict = defaultdict(int)\n",
    "\n",
    "for elem in nums:\n",
    "    count_dict[elem] += 1"
   ]
  },
  {
   "cell_type": "code",
   "execution_count": 28,
   "metadata": {},
   "outputs": [
    {
     "data": {
      "text/plain": [
       "defaultdict(int, {1: 3, 2: 4, 5: 2, 6: 2, 10: 1, 9: 1})"
      ]
     },
     "execution_count": 28,
     "metadata": {},
     "output_type": "execute_result"
    }
   ],
   "source": [
    "count_dict"
   ]
  },
  {
   "cell_type": "code",
   "execution_count": 29,
   "metadata": {},
   "outputs": [],
   "source": [
    "emp_info = {\n",
    "    'John Doe': 'New York',\n",
    "    'Pam Anderson': 'Tokyo',\n",
    "    'Nikhil Singh': 'Delhi',\n",
    "    'Thomas Flint': 'New York',\n",
    "    'Jimmy Chan': 'Shanghai',\n",
    "    'Kelly Smith': 'Tokyo',\n",
    "    'Neha Sharma': 'Delhi',\n",
    "    'Jack Chu': 'Shanghai',\n",
    "    'Nobu': 'Tokyo'\n",
    "}"
   ]
  },
  {
   "cell_type": "code",
   "execution_count": 30,
   "metadata": {},
   "outputs": [
    {
     "name": "stdout",
     "output_type": "stream",
     "text": [
      "{'New York': ['John Doe', 'Thomas Flint'], 'Tokyo': ['Pam Anderson', 'Kelly Smith', 'Nobu'], 'Delhi': ['Nikhil Singh', 'Neha Sharma'], 'Shanghai': ['Jimmy Chan', 'Jack Chu']}\n"
     ]
    }
   ],
   "source": [
    "city_dict = {}\n",
    "\n",
    "for emp_name in emp_info:\n",
    "    # Get the city name\n",
    "    city_name = emp_info[emp_name]\n",
    "    \n",
    "    # Check if the city name exists, if yes\n",
    "    # then append it to the list\n",
    "    if city_dict.get(city_name, None):\n",
    "        city_dict[city_name].append(emp_name)\n",
    "    # Else we create a list\n",
    "    else:\n",
    "        city_dict[city_name] = [emp_name]\n",
    "\n",
    "print(city_dict)"
   ]
  },
  {
   "cell_type": "code",
   "execution_count": 31,
   "metadata": {},
   "outputs": [
    {
     "name": "stdout",
     "output_type": "stream",
     "text": [
      "defaultdict(<class 'list'>, {'New York': ['John Doe', 'Thomas Flint'], 'Tokyo': ['Pam Anderson', 'Kelly Smith', 'Nobu'], 'Delhi': ['Nikhil Singh', 'Neha Sharma'], 'Shanghai': ['Jimmy Chan', 'Jack Chu']})\n"
     ]
    }
   ],
   "source": [
    "city_default_dict = defaultdict(list)\n",
    "\n",
    "for emp_name in emp_info:\n",
    "    city_name = emp_info[emp_name]\n",
    "    city_default_dict[city_name].append(emp_name)\n",
    "\n",
    "print(city_default_dict)"
   ]
  },
  {
   "cell_type": "code",
   "execution_count": null,
   "metadata": {},
   "outputs": [],
   "source": []
  }
 ],
 "metadata": {
  "kernelspec": {
   "display_name": "Python 3",
   "language": "python",
   "name": "python3"
  },
  "language_info": {
   "codemirror_mode": {
    "name": "ipython",
    "version": 3
   },
   "file_extension": ".py",
   "mimetype": "text/x-python",
   "name": "python",
   "nbconvert_exporter": "python",
   "pygments_lexer": "ipython3",
   "version": "3.7.1"
  }
 },
 "nbformat": 4,
 "nbformat_minor": 2
}
