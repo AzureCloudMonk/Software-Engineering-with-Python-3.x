{
 "cells": [
  {
   "cell_type": "code",
   "execution_count": 1,
   "metadata": {},
   "outputs": [],
   "source": [
    "from multiprocessing import Process\n",
    "import time"
   ]
  },
  {
   "cell_type": "markdown",
   "metadata": {},
   "source": [
    "## Let's make a function for testing"
   ]
  },
  {
   "cell_type": "markdown",
   "metadata": {},
   "source": [
    "This functions takes a start and end point. Then raises each element within that range to the pow_elem and sums them."
   ]
  },
  {
   "cell_type": "code",
   "execution_count": 2,
   "metadata": {},
   "outputs": [],
   "source": [
    "def sum_pow(start, end, pow_elem=1):\n",
    "    print(\"\\nStarting Function with args\", start, end, pow_elem)\n",
    "    sum_arr = 0\n",
    "    for x in range(start, end):\n",
    "        sum_arr += (x**pow_elem)\n",
    "\n",
    "    print(\"\\nSum of nos. from {} to {} raised to {} is {}\".format(start, end, pow_elem, sum_arr))\n",
    " "
   ]
  },
  {
   "cell_type": "markdown",
   "metadata": {},
   "source": [
    "## Let's call this function multiple times"
   ]
  },
  {
   "cell_type": "code",
   "execution_count": 3,
   "metadata": {},
   "outputs": [],
   "source": [
    "def normal_run():\n",
    "    sum_pow(0, 10, 1)\n",
    "    sum_pow(0, 1000000, 2)\n",
    "    sum_pow(0, 10000, 3)\n",
    "    sum_pow(0, 100000, 5)"
   ]
  },
  {
   "cell_type": "markdown",
   "metadata": {},
   "source": [
    "### The functions start and end in the order they were called"
   ]
  },
  {
   "cell_type": "code",
   "execution_count": 4,
   "metadata": {},
   "outputs": [
    {
     "name": "stdout",
     "output_type": "stream",
     "text": [
      "\n",
      "Starting Function with args 0 10 1\n",
      "\n",
      "Sum of nos. from 0 to 10 raised to 1 is 45\n",
      "\n",
      "Starting Function with args 0 1000000 2\n",
      "\n",
      "Sum of nos. from 0 to 1000000 raised to 2 is 333332833333500000\n",
      "\n",
      "Starting Function with args 0 10000 3\n",
      "\n",
      "Sum of nos. from 0 to 10000 raised to 3 is 2499500025000000\n",
      "\n",
      "Starting Function with args 0 100000 5\n",
      "\n",
      "Sum of nos. from 0 to 100000 raised to 5 is 166661666708333333332500000000\n"
     ]
    }
   ],
   "source": [
    "normal_run()"
   ]
  },
  {
   "cell_type": "markdown",
   "metadata": {},
   "source": [
    "## Now, we will make a multiprocessing function"
   ]
  },
  {
   "cell_type": "code",
   "execution_count": 5,
   "metadata": {},
   "outputs": [],
   "source": [
    "def multi_process_run():\n",
    "    # Create processes with the function we created and different set of args\n",
    "    t1 = Process(target=sum_pow, args=(0, 10, 1))\n",
    "    t2 = Process(target=sum_pow, args=(0, 1000000, 2))\n",
    "    t3 = Process(target=sum_pow, args=(0, 10000, 3))\n",
    "    t4 = Process(target=sum_pow, args=(0, 100000, 5))\n",
    "    \n",
    "    # Start each process\n",
    "    t1.start()\n",
    "    t2.start()\n",
    "    t3.start()\n",
    "    t4.start()\n",
    "    \n",
    "    # wait for processes to finish\n",
    "    t1.join()\n",
    "    t2.join()\n",
    "    t3.join()\n",
    "    t4.join()"
   ]
  },
  {
   "cell_type": "code",
   "execution_count": 6,
   "metadata": {},
   "outputs": [
    {
     "name": "stdout",
     "output_type": "stream",
     "text": [
      "\n",
      "Starting Function with args 0 10 1\n",
      "\n",
      "Starting Function with args 0 1000000 2\n",
      "\n",
      "Sum of nos. from 0 to 10 raised to 1 is 45\n",
      "\n",
      "Starting Function with args 0 10000 3\n",
      "\n",
      "Starting Function with args\n",
      "Sum of nos. from 0 to 10000 raised to 3 is 2499500025000000\n",
      " 0 100000 5\n",
      "\n",
      "Sum of nos. from 0 to 100000 raised to 5 is 166661666708333333332500000000\n",
      "\n",
      "Sum of nos. from 0 to 1000000 raised to 2 is 333332833333500000\n"
     ]
    }
   ],
   "source": [
    "multi_process_run()"
   ]
  },
  {
   "cell_type": "code",
   "execution_count": 7,
   "metadata": {},
   "outputs": [],
   "source": [
    "import multiprocessing\n",
    "\n",
    "def modified_sum_pow(start, end, pow_elem=1):\n",
    "    print(\"\\nStarting Function with args\", start, end, pow_elem)\n",
    "    \n",
    "    print(\"\\nThis is Process ID: \", multiprocessing.current_process())\n",
    "    sum_arr = 0\n",
    "    \n",
    "    for x in range(start, end):\n",
    "        sum_arr += (x**pow_elem)\n",
    "\n",
    "    print(\"\\nSum of nos. from {} to {} raised to {} is {}\".format(start, end, pow_elem, sum_arr))\n",
    " "
   ]
  },
  {
   "cell_type": "code",
   "execution_count": 8,
   "metadata": {},
   "outputs": [],
   "source": [
    "def modified_multi_process_run():\n",
    "    # Create processes with the function \n",
    "    # we created and different set of args\n",
    "    t1 = Process(target=modified_sum_pow, args=(0, 10000000, 1))\n",
    "    t2 = Process(target=modified_sum_pow, args=(0, 1000000, 2))\n",
    "    t3 = Process(target=modified_sum_pow, args=(0, 10000, 3))\n",
    "    \n",
    "    # Start each process\n",
    "    t1.start()\n",
    "    t2.start()\n",
    "    t3.start()\n",
    "    \n",
    "    # wait for process to finish\n",
    "    t1.join()\n",
    "    t2.join()\n",
    "    t3.join()"
   ]
  },
  {
   "cell_type": "code",
   "execution_count": 10,
   "metadata": {},
   "outputs": [
    {
     "name": "stdout",
     "output_type": "stream",
     "text": [
      "\n",
      "Starting Function with args 0 10000000 1\n",
      "\n",
      "Starting Function with args 0 1000000 2\n",
      "\n",
      "This is Process ID:  <Process(Process-9, started)>\n",
      "\n",
      "Starting Function with args 0 10000 3\n",
      "\n",
      "This is Process ID:  <Process(Process-8, started)>\n",
      "\n",
      "This is Process ID:  <Process(Process-10, started)>\n",
      "\n",
      "Sum of nos. from 0 to 10000 raised to 3 is 2499500025000000\n",
      "\n",
      "Sum of nos. from 0 to 1000000 raised to 2 is 333332833333500000\n",
      "\n",
      "Sum of nos. from 0 to 10000000 raised to 1 is 49999995000000\n"
     ]
    }
   ],
   "source": [
    "modified_multi_process_run()"
   ]
  },
  {
   "cell_type": "markdown",
   "metadata": {},
   "source": [
    "## Using a Pool of Process"
   ]
  },
  {
   "cell_type": "code",
   "execution_count": 11,
   "metadata": {},
   "outputs": [],
   "source": [
    "def complicated_square_function(x):\n",
    "    print(\"Starting function for value {}\".format(x))\n",
    "    time.sleep(3)\n",
    "    print(\"Ending function for value {}\\n\".format(x))\n",
    "    return x*x"
   ]
  },
  {
   "cell_type": "code",
   "execution_count": 12,
   "metadata": {},
   "outputs": [
    {
     "name": "stdout",
     "output_type": "stream",
     "text": [
      "Starting function for value 0\n",
      "Ending function for value 0\n",
      "\n",
      "Starting function for value 1\n",
      "Ending function for value 1\n",
      "\n",
      "Starting function for value 2\n",
      "Ending function for value 2\n",
      "\n",
      "Starting function for value 3\n",
      "Ending function for value 3\n",
      "\n",
      "Starting function for value 4\n",
      "Ending function for value 4\n",
      "\n",
      "\n",
      "Time taken is 15.0127 seconds\n"
     ]
    }
   ],
   "source": [
    "start = time.time()\n",
    "\n",
    "for x in range(0, 5):\n",
    "    complicated_square_function(x)\n",
    "\n",
    "end = time.time()\n",
    "\n",
    "print(\"\\nTime taken is {0:.4f} seconds\".format(end - start))"
   ]
  },
  {
   "cell_type": "code",
   "execution_count": 13,
   "metadata": {},
   "outputs": [
    {
     "name": "stdout",
     "output_type": "stream",
     "text": [
      "Starting function for value 0\n",
      "Starting function for value 2\n",
      "Starting function for value 1\n",
      "Starting function for value 4\n",
      "Starting function for value 3\n",
      "Ending function for value 2\n",
      "Ending function for value 4\n",
      "Ending function for value 1\n",
      "\n",
      "Ending function for value 0\n",
      "\n",
      "Ending function for value 3\n",
      "\n",
      "\n",
      "\n",
      "Time taken is 3.0584 seconds \n",
      "\n"
     ]
    }
   ],
   "source": [
    "from multiprocessing import Pool\n",
    "\n",
    "start = time.time()\n",
    "\n",
    "pool = Pool(processes=5)\n",
    "\n",
    "input_list = range(0, 5)\n",
    "\n",
    "result = pool.map(complicated_square_function, input_list) \n",
    "\n",
    "end = time.time()\n",
    "print(\"Time taken is {0:.4f} seconds \\n\".format(end - start))"
   ]
  },
  {
   "cell_type": "code",
   "execution_count": 15,
   "metadata": {},
   "outputs": [
    {
     "name": "stdout",
     "output_type": "stream",
     "text": [
      "Time taken is 0.1100 seconds\n",
      "Starting function for value 4\n",
      "Starting function for value 3\n",
      "Starting function for value 0\n",
      "Starting function for value 1\n",
      "Starting function for value 2\n",
      "Ending function for value 4\n",
      "\n",
      "Ending function for value 3\n",
      "Ending function for value 0\n",
      "\n",
      "Ending function for value 1\n",
      "\n",
      "\n",
      "Ending function for value 2\n",
      "\n"
     ]
    }
   ],
   "source": [
    "start = time.time()\n",
    "\n",
    "pool = Pool(processes=5)\n",
    "\n",
    "input_list = range(0, 5)\n",
    "\n",
    "# This is a non-blocking call\n",
    "result = pool.map_async(complicated_square_function, input_list)\n",
    "\n",
    "end = time.time()\n",
    "print(\"Time taken is {0:.4f} seconds\".format(end - start))"
   ]
  },
  {
   "cell_type": "code",
   "execution_count": null,
   "metadata": {},
   "outputs": [],
   "source": []
  },
  {
   "cell_type": "code",
   "execution_count": null,
   "metadata": {},
   "outputs": [],
   "source": []
  },
  {
   "cell_type": "code",
   "execution_count": null,
   "metadata": {},
   "outputs": [],
   "source": []
  },
  {
   "cell_type": "code",
   "execution_count": null,
   "metadata": {},
   "outputs": [],
   "source": []
  },
  {
   "cell_type": "code",
   "execution_count": null,
   "metadata": {},
   "outputs": [],
   "source": []
  },
  {
   "cell_type": "code",
   "execution_count": null,
   "metadata": {},
   "outputs": [],
   "source": []
  }
 ],
 "metadata": {
  "kernelspec": {
   "display_name": "Python 3",
   "language": "python",
   "name": "python3"
  },
  "language_info": {
   "codemirror_mode": {
    "name": "ipython",
    "version": 3
   },
   "file_extension": ".py",
   "mimetype": "text/x-python",
   "name": "python",
   "nbconvert_exporter": "python",
   "pygments_lexer": "ipython3",
   "version": "3.7.1"
  }
 },
 "nbformat": 4,
 "nbformat_minor": 2
}
