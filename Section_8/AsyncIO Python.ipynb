{
 "cells": [
  {
   "cell_type": "code",
   "execution_count": 1,
   "metadata": {
    "colab": {},
    "colab_type": "code",
    "id": "P7Zkhxg6WcMa"
   },
   "outputs": [],
   "source": [
    "import csv\n",
    "import datetime\n",
    "\n",
    "def get_info(my_str):\n",
    "    return my_str.split(':')[1].strip()\n",
    "\n",
    "def process_users(file_name):\n",
    "    now = datetime.datetime.now()\n",
    "    cur_year =  now.year\n",
    "    with open(file_name) as f_out:\n",
    "        csvreader = csv.reader(f_out)\n",
    "        for line in csvreader:\n",
    "            # print(line)\n",
    "            name, year, sex = list(map(get_info, line))\n",
    "            if sex == 'Male':\n",
    "                name = 'Mr.' + name\n",
    "            else:\n",
    "                name = 'Ms/Mrs. ' + name\n",
    "            age = cur_year - int(year)\n",
    "            \n",
    "            print(\"Age of {} is {} years\".format(name, age))\n",
    "    print(\"Done Processing User Info !\")"
   ]
  },
  {
   "cell_type": "code",
   "execution_count": 2,
   "metadata": {},
   "outputs": [],
   "source": [
    "def process_numbers(file_name):\n",
    "    with open(file_name) as fnums:\n",
    "        for num in fnums:\n",
    "            num = int(num.strip())\n",
    "            if num%15==0:\n",
    "                print(\"For {} the ans is {}\".format(num, 'FizzBuzz'))\n",
    "            elif num%3==0:\n",
    "                print(\"For {} the ans is {}\".format(num, 'Fizz'))\n",
    "            elif num%5==0:\n",
    "                print(\"For {} the ans is {}\".format(num, 'Buzz'))\n",
    "            else:\n",
    "                print(\"For {} the ans is {} itself\".format(num, num))\n",
    "    print(\"Finished Processing Numbers\")\n",
    "\n",
    "\n"
   ]
  },
  {
   "cell_type": "code",
   "execution_count": 3,
   "metadata": {},
   "outputs": [],
   "source": [
    "def process_string(my_str):\n",
    "    for char in my_str:\n",
    "        if char.isdigit():\n",
    "            print(\"{} is a digit\".format(char))\n",
    "        elif char.isalpha():\n",
    "            if char in 'aeiou':\n",
    "                print(\"{} is a vowel\".format(char))\n",
    "            else:\n",
    "                print(\"{} is an alphabet\".format(char))\n",
    "        elif char.isspace():\n",
    "            continue\n",
    "        else:\n",
    "            print(\"{} is a special character\".format(char))\n",
    "    "
   ]
  },
  {
   "cell_type": "code",
   "execution_count": 4,
   "metadata": {
    "colab": {},
    "colab_type": "code",
    "id": "ayGbPGcDXJCY"
   },
   "outputs": [],
   "source": [
    "def synchronous_calls():\n",
    "  process_users('user_info.csv')\n",
    "  process_numbers(\"random_nums.txt\")\n",
    "  process_string(\"Hello World !\")"
   ]
  },
  {
   "cell_type": "code",
   "execution_count": 5,
   "metadata": {
    "colab": {
     "base_uri": "https://localhost:8080/",
     "height": 243
    },
    "colab_type": "code",
    "id": "8d3U_tq9XT9A",
    "outputId": "ee1b8a67-c88e-47fd-c001-2df3bb581bce"
   },
   "outputs": [
    {
     "name": "stdout",
     "output_type": "stream",
     "text": [
      "Age of Mr.John Baker is 35 years\n",
      "Age of Ms/Mrs. Anne Williams is 50 years\n",
      "Age of Mr.Jimmy is 45 years\n",
      "Age of Ms/Mrs. Nicole Smith is 30 years\n",
      "Age of Ms/Mrs. Bob Ross is 32 years\n",
      "Done Processing User Info !\n",
      "For 24 the ans is Fizz\n",
      "For 42 the ans is Fizz\n",
      "For 43 the ans is 43 itself\n",
      "For 5 the ans is Buzz\n",
      "For 88 the ans is 88 itself\n",
      "For 44 the ans is 44 itself\n",
      "For 67 the ans is 67 itself\n",
      "For 42 the ans is Fizz\n",
      "For 54 the ans is Fizz\n",
      "For 88 the ans is 88 itself\n",
      "Finished Processing Numbers\n",
      "H is an alphabet\n",
      "e is a vowel\n",
      "l is an alphabet\n",
      "l is an alphabet\n",
      "o is a vowel\n",
      "W is an alphabet\n",
      "o is a vowel\n",
      "r is an alphabet\n",
      "l is an alphabet\n",
      "d is an alphabet\n",
      "! is a special character\n"
     ]
    }
   ],
   "source": [
    "synchronous_calls()"
   ]
  },
  {
   "cell_type": "markdown",
   "metadata": {},
   "source": [
    "#### Code to generate random numbers in a file"
   ]
  },
  {
   "cell_type": "code",
   "execution_count": 6,
   "metadata": {
    "colab": {},
    "colab_type": "code",
    "id": "J_QAgV1OXWp_"
   },
   "outputs": [],
   "source": [
    "# import random\n",
    "\n",
    "# with open('random_nums.txt', 'w') as fout:\n",
    "#     for _ in range(10):\n",
    "#         rand_num = str(random.randint(1, 100))\n",
    "#         fout.write(rand_num)\n",
    "#         fout.write('\\n')"
   ]
  },
  {
   "cell_type": "markdown",
   "metadata": {
    "colab_type": "text",
    "id": "9QCDGG0WYAZ8"
   },
   "source": [
    "# Asynchronous Calls"
   ]
  },
  {
   "cell_type": "code",
   "execution_count": 7,
   "metadata": {
    "colab": {},
    "colab_type": "code",
    "id": "9Rgtq_59YDDZ"
   },
   "outputs": [],
   "source": [
    "import asyncio"
   ]
  },
  {
   "cell_type": "code",
   "execution_count": 8,
   "metadata": {},
   "outputs": [],
   "source": [
    "async def process_users(file_name):\n",
    "    now = datetime.datetime.now()\n",
    "    cur_year =  now.year\n",
    "    with open(file_name) as f_out:\n",
    "        csvreader = csv.reader(f_out)\n",
    "        for line in csvreader:\n",
    "            name, year, sex = list(map(get_info, line))\n",
    "            if sex == 'Male':\n",
    "                name = 'Mr.' + name\n",
    "            else:\n",
    "                name = 'Ms/Mrs. ' + name\n",
    "            age = cur_year - int(year)\n",
    "            \n",
    "            print(\"Age of {} is {} years\".format(name, age))\n",
    "            await asyncio.sleep(1)\n",
    "    print(\"Done Processing User Info !\")"
   ]
  },
  {
   "cell_type": "code",
   "execution_count": 9,
   "metadata": {},
   "outputs": [],
   "source": [
    "async def process_numbers(file_name):\n",
    "    with open(file_name) as fnums:\n",
    "        for num in fnums:\n",
    "            num = int(num.strip())\n",
    "            if num%15==0:\n",
    "                print(\"For {} the ans is {}\".format(num, 'FizzBuzz'))\n",
    "                await asyncio.sleep(3)\n",
    "            elif num%3==0:\n",
    "                print(\"For {} the ans is {}\".format(num, 'Fizz'))\n",
    "                await asyncio.sleep(2)\n",
    "            elif num%5==0:\n",
    "                print(\"For {} the ans is {}\".format(num, 'Buzz'))\n",
    "                await asyncio.sleep(1)\n",
    "            else:\n",
    "                print(\"For {} the ans is {} itself\".format(num, num))\n",
    "            \n",
    "    print(\"Finished Processing Numbers\")"
   ]
  },
  {
   "cell_type": "code",
   "execution_count": 10,
   "metadata": {},
   "outputs": [],
   "source": [
    "async def process_string(my_str):\n",
    "    for char in my_str:\n",
    "        if char.isdigit():\n",
    "            print(\"{} is a digit\".format(char))\n",
    "            await asyncio.sleep(2)\n",
    "        elif char.isalpha():\n",
    "            if char in 'aeiou':\n",
    "                print(\"{} is a vowel\".format(char))\n",
    "            else:\n",
    "                print(\"{} is an alphabet\".format(char))\n",
    "            await asyncio.sleep(1)\n",
    "        elif char.isspace():\n",
    "            continue\n",
    "        else:\n",
    "            print(\"{} is a special character\".format(char))\n",
    "        \n",
    "    "
   ]
  },
  {
   "cell_type": "code",
   "execution_count": 11,
   "metadata": {
    "colab": {},
    "colab_type": "code",
    "id": "7ZnCqULvY1jJ"
   },
   "outputs": [],
   "source": [
    "async def async_call_new():\n",
    "  user_obj = event_loop.create_task(process_users('user_info.csv'))\n",
    "  nums_obj = event_loop.create_task(process_numbers(\"random_nums.txt\"))\n",
    "  str_obj = event_loop.create_task(process_string(\"Hello World !\"))\n",
    "  await asyncio.wait([user_obj, nums_obj, str_obj])"
   ]
  },
  {
   "cell_type": "code",
   "execution_count": 12,
   "metadata": {
    "colab": {
     "base_uri": "https://localhost:8080/",
     "height": 486
    },
    "colab_type": "code",
    "id": "b1uikp_WZxSc",
    "outputId": "6d3d6ad6-04fa-4ba1-b846-f6999ac911c8"
   },
   "outputs": [],
   "source": [
    "# event_loop = asyncio.get_event_loop()\n",
    "# event_loop.run_until_complete(async_call_new())\n",
    "# event_loop.close()"
   ]
  },
  {
   "cell_type": "code",
   "execution_count": 13,
   "metadata": {},
   "outputs": [],
   "source": [
    "async def async_call_run():\n",
    "  user_obj = asyncio.create_task(process_users('user_info.csv'))\n",
    "  nums_obj = asyncio.create_task(process_numbers(\"random_nums.txt\"))\n",
    "  str_obj = asyncio.create_task(process_string(\"Hello World !\"))\n",
    "  await asyncio.wait([user_obj, nums_obj, str_obj])"
   ]
  },
  {
   "cell_type": "code",
   "execution_count": 14,
   "metadata": {
    "colab": {},
    "colab_type": "code",
    "id": "eJpKj2a3a8F_"
   },
   "outputs": [
    {
     "name": "stdout",
     "output_type": "stream",
     "text": [
      "Age of Mr.John Baker is 35 years\n",
      "For 24 the ans is Fizz\n",
      "H is an alphabet\n",
      "Age of Ms/Mrs. Anne Williams is 50 years\n",
      "e is a vowel\n",
      "For 42 the ans is Fizz\n",
      "Age of Mr.Jimmy is 45 years\n",
      "l is an alphabet\n",
      "Age of Ms/Mrs. Nicole Smith is 30 years\n",
      "l is an alphabet\n",
      "For 43 the ans is 43 itself\n",
      "For 5 the ans is Buzz\n",
      "Age of Ms/Mrs. Bob Ross is 32 years\n",
      "o is a vowel\n",
      "For 88 the ans is 88 itself\n",
      "For 44 the ans is 44 itself\n",
      "For 67 the ans is 67 itself\n",
      "For 42 the ans is Fizz\n",
      "Done Processing User Info !\n",
      "W is an alphabet\n",
      "o is a vowel\n",
      "For 54 the ans is Fizz\n",
      "r is an alphabet\n",
      "l is an alphabet\n",
      "For 88 the ans is 88 itself\n",
      "Finished Processing Numbers\n",
      "d is an alphabet\n",
      "! is a special character\n"
     ]
    }
   ],
   "source": [
    "# https://docs.python.org/3/library/asyncio-task.html#asyncio.run\n",
    "\n",
    "asyncio.run(async_call_run())"
   ]
  },
  {
   "cell_type": "code",
   "execution_count": null,
   "metadata": {},
   "outputs": [],
   "source": []
  }
 ],
 "metadata": {
  "colab": {
   "collapsed_sections": [],
   "name": "AsyncIO.ipynb",
   "provenance": [],
   "version": "0.3.2"
  },
  "kernelspec": {
   "display_name": "Python 3",
   "language": "python",
   "name": "python3"
  },
  "language_info": {
   "codemirror_mode": {
    "name": "ipython",
    "version": 3
   },
   "file_extension": ".py",
   "mimetype": "text/x-python",
   "name": "python",
   "nbconvert_exporter": "python",
   "pygments_lexer": "ipython3",
   "version": "3.7.1"
  }
 },
 "nbformat": 4,
 "nbformat_minor": 1
}
