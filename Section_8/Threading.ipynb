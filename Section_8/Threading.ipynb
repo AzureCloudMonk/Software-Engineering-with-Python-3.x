{
 "cells": [
  {
   "cell_type": "code",
   "execution_count": 1,
   "metadata": {},
   "outputs": [],
   "source": [
    "import threading\n",
    "import time"
   ]
  },
  {
   "cell_type": "markdown",
   "metadata": {},
   "source": [
    "## Let's make a function for testing"
   ]
  },
  {
   "cell_type": "markdown",
   "metadata": {},
   "source": [
    "This functions takes a start and end point. Then raises each element within that range to the pow_elem and sums them."
   ]
  },
  {
   "cell_type": "code",
   "execution_count": 2,
   "metadata": {},
   "outputs": [],
   "source": [
    "def sum_pow(start, end, pow_elem=1):\n",
    "    print(\"\\nStarting Function with args\", start, end, pow_elem)\n",
    "    sum_arr = 0\n",
    "    for x in range(start, end):\n",
    "        sum_arr += (x**pow_elem)\n",
    "\n",
    "    print(\"\\nSum of nos. from {} to {} raised to {} is {}\".format(start, end, pow_elem, sum_arr))\n",
    " "
   ]
  },
  {
   "cell_type": "markdown",
   "metadata": {},
   "source": [
    "## Let's call this function multiple times"
   ]
  },
  {
   "cell_type": "code",
   "execution_count": 3,
   "metadata": {},
   "outputs": [],
   "source": [
    "def normal_run():\n",
    "    sum_pow(0, 10, 1)\n",
    "    sum_pow(0, 1000000, 2)\n",
    "    sum_pow(0, 10000, 3)\n",
    "    sum_pow(0, 100000, 5)"
   ]
  },
  {
   "cell_type": "markdown",
   "metadata": {},
   "source": [
    "### The functions start and end in the order they were called"
   ]
  },
  {
   "cell_type": "code",
   "execution_count": 5,
   "metadata": {},
   "outputs": [
    {
     "name": "stdout",
     "output_type": "stream",
     "text": [
      "\n",
      "Starting Function with args 0 10 1\n",
      "\n",
      "Sum of nos. from 0 to 10 raised to 1 is 45\n",
      "\n",
      "Starting Function with args 0 1000000 2\n",
      "\n",
      "Sum of nos. from 0 to 1000000 raised to 2 is 333332833333500000\n",
      "\n",
      "Starting Function with args 0 10000 3\n",
      "\n",
      "Sum of nos. from 0 to 10000 raised to 3 is 2499500025000000\n",
      "\n",
      "Starting Function with args 0 100000 5\n",
      "\n",
      "Sum of nos. from 0 to 100000 raised to 5 is 166661666708333333332500000000\n"
     ]
    }
   ],
   "source": [
    "normal_run()"
   ]
  },
  {
   "cell_type": "markdown",
   "metadata": {},
   "source": [
    "## Now, we will make a simple threaded function"
   ]
  },
  {
   "cell_type": "code",
   "execution_count": 6,
   "metadata": {},
   "outputs": [],
   "source": [
    "def threaded_run():\n",
    "    # Create threads with the function we created and different set of args\n",
    "    t1 = threading.Thread(target=sum_pow, args=(0, 10, 1))\n",
    "    t2 = threading.Thread(target=sum_pow, args=(0, 1000000, 2))\n",
    "    t3 = threading.Thread(target=sum_pow, args=(0, 10000, 3))\n",
    "    t4 = threading.Thread(target=sum_pow, args=(0, 100000, 5))\n",
    "    \n",
    "    # Start each thread\n",
    "    t1.start()\n",
    "    t2.start()\n",
    "    t3.start()\n",
    "    t4.start()\n",
    "    \n",
    "    # wait for threads to finish\n",
    "    t1.join()\n",
    "    t2.join()\n",
    "    t3.join()\n",
    "    t4.join()"
   ]
  },
  {
   "cell_type": "code",
   "execution_count": 8,
   "metadata": {},
   "outputs": [
    {
     "name": "stdout",
     "output_type": "stream",
     "text": [
      "\n",
      "Starting Function with args 0 10 1\n",
      "\n",
      "Sum of nos. from 0 to 10 raised to 1 is 45\n",
      "\n",
      "Starting Function with args 0 1000000 2\n",
      "\n",
      "Starting Function with args 0 10000 3\n",
      "\n",
      "Sum of nos. from 0 to 10000 raised to 3 is 2499500025000000\n",
      "\n",
      "Starting Function with args 0 100000 5\n",
      "\n",
      "Sum of nos. from 0 to 100000 raised to 5 is 166661666708333333332500000000\n",
      "\n",
      "Sum of nos. from 0 to 1000000 raised to 2 is 333332833333500000\n"
     ]
    }
   ],
   "source": [
    "threaded_run()"
   ]
  },
  {
   "cell_type": "code",
   "execution_count": 9,
   "metadata": {},
   "outputs": [],
   "source": [
    "def modified_sum_pow(start, end, pow_elem=1):\n",
    "    print(\"\\nStarting Function with args\", start, end, pow_elem)\n",
    "    \n",
    "    print(\"\\nThis is thread ID: \", threading.get_ident())\n",
    "    \n",
    "    sum_arr = 0\n",
    "    for x in range(start, end):\n",
    "        sum_arr += (x**pow_elem)\n",
    "\n",
    "    print(\"\\nSum of nos. from {} to {} raised to {} is {}\".format(start, end, pow_elem, sum_arr))\n",
    " "
   ]
  },
  {
   "cell_type": "code",
   "execution_count": 10,
   "metadata": {},
   "outputs": [],
   "source": [
    "def modified_threaded_run():\n",
    "    # Create threads with the function we created and different set of args\n",
    "    t1 = threading.Thread(target=modified_sum_pow, args=(0, 10000000, 1))\n",
    "    t2 = threading.Thread(target=modified_sum_pow, args=(0, 1000000, 2))\n",
    "    t3 = threading.Thread(target=modified_sum_pow, args=(0, 10000, 3))\n",
    "    \n",
    "    # Start each thread\n",
    "    t1.start()\n",
    "    t2.start()\n",
    "    t3.start()\n",
    "    \n",
    "    # wait for threads to finish\n",
    "    t1.join()\n",
    "    t2.join()\n",
    "    t3.join()"
   ]
  },
  {
   "cell_type": "code",
   "execution_count": 11,
   "metadata": {},
   "outputs": [
    {
     "name": "stdout",
     "output_type": "stream",
     "text": [
      "\n",
      "Starting Function with args 0 10000000 1\n",
      "\n",
      "This is thread ID:  139766389520128\n",
      "\n",
      "Starting Function with args 0 1000000 2\n",
      "\n",
      "This is thread ID:  139766372734720\n",
      "\n",
      "Starting Function with args 0 10000 3\n",
      "\n",
      "This is thread ID:  139766381127424\n",
      "\n",
      "Sum of nos. from 0 to 10000 raised to 3 is 2499500025000000\n",
      "\n",
      "Sum of nos. from 0 to 1000000 raised to 2 is 333332833333500000\n",
      "\n",
      "Sum of nos. from 0 to 10000000 raised to 1 is 49999995000000\n"
     ]
    }
   ],
   "source": [
    "modified_threaded_run()"
   ]
  },
  {
   "cell_type": "markdown",
   "metadata": {},
   "source": [
    "## Let's move to on to a more complex example"
   ]
  },
  {
   "cell_type": "code",
   "execution_count": 17,
   "metadata": {},
   "outputs": [],
   "source": [
    "def some_complex_function(file_name, data):\n",
    "    print(\"Starting thread \", threading.get_ident())\n",
    "    \n",
    "    # Using a context manager for writing the file\n",
    "    # would defeat the purpose of this example \n",
    "    for idx, line in enumerate(data):\n",
    "        file_ptr = open(file_name, 'a+')\n",
    "        print(\"\\nWriting Line {} for {} time\".format(line, idx+1))\n",
    "        file_ptr.write(line)\n",
    "        file_ptr.close()\n",
    "#         time.sleep(1)\n",
    "    print(\"Ending thread \", threading.get_ident())"
   ]
  },
  {
   "cell_type": "code",
   "execution_count": 26,
   "metadata": {},
   "outputs": [],
   "source": [
    "hello_lines = [\"Hello World !!\\n\"] * 10\n",
    "yolo_lines = [\"YOLO SWAG !!\\n\"] * 10\n",
    "goodbye_lines = [\"Good Bye !!\\n\"] * 10"
   ]
  },
  {
   "cell_type": "code",
   "execution_count": 27,
   "metadata": {},
   "outputs": [
    {
     "data": {
      "text/plain": [
       "['Hello World !!\\n',\n",
       " 'Hello World !!\\n',\n",
       " 'Hello World !!\\n',\n",
       " 'Hello World !!\\n',\n",
       " 'Hello World !!\\n',\n",
       " 'Hello World !!\\n',\n",
       " 'Hello World !!\\n',\n",
       " 'Hello World !!\\n',\n",
       " 'Hello World !!\\n',\n",
       " 'Hello World !!\\n']"
      ]
     },
     "execution_count": 27,
     "metadata": {},
     "output_type": "execute_result"
    }
   ],
   "source": [
    "hello_lines"
   ]
  },
  {
   "cell_type": "code",
   "execution_count": 28,
   "metadata": {},
   "outputs": [],
   "source": [
    "def complex_threaded_run():\n",
    "    \n",
    "    file_name = \"test.txt\"\n",
    "    \n",
    "    # Create threads with the function we created and different set of args\n",
    "    t1 = threading.Thread(target=some_complex_function, args=(file_name, hello_lines))\n",
    "    t2 = threading.Thread(target=some_complex_function, args=(file_name, yolo_lines))\n",
    "    t3 = threading.Thread(target=some_complex_function, args=(file_name, goodbye_lines))\n",
    "    \n",
    "    # Start each thread\n",
    "    t1.start()\n",
    "    t2.start()\n",
    "    t3.start()\n",
    "    \n",
    "    # wait for threads to finish\n",
    "    t1.join()\n",
    "    t2.join()\n",
    "    t3.join()"
   ]
  },
  {
   "cell_type": "code",
   "execution_count": 29,
   "metadata": {},
   "outputs": [
    {
     "name": "stdout",
     "output_type": "stream",
     "text": [
      "Starting thread  139766372734720\n",
      "\n",
      "Writing Line Hello World !!\n",
      " for 1 time\n",
      "Starting thread  139766389520128\n",
      "\n",
      "Writing Line Hello World !!\n",
      " for 2 time\n",
      "\n",
      "Writing Line YOLO SWAG !!\n",
      " for 1 timeStarting thread  139766381127424\n",
      "\n",
      "\n",
      "Writing Line Good Bye !!\n",
      " for 1 time\n",
      "\n",
      "Writing Line YOLO SWAG !!\n",
      " for 2 time\n",
      "\n",
      "Writing Line Hello World !!\n",
      " for 3 time\n",
      "Writing Line Good Bye !!\n",
      " for 2 time\n",
      "\n",
      "\n",
      "Writing Line YOLO SWAG !!\n",
      " for 3 time\n",
      "\n",
      "Writing Line YOLO SWAG !!\n",
      " for 4 time\n",
      "\n",
      "Writing Line Good Bye !!\n",
      " for 3 time\n",
      "Writing Line Hello World !!\n",
      " for 4 time\n",
      "\n",
      "\n",
      "Writing Line YOLO SWAG !!\n",
      " for 5 time\n",
      "Writing Line Hello World !!\n",
      " for 5 time\n",
      "\n",
      "Writing Line Good Bye !!\n",
      " for 4 time\n",
      "\n",
      "\n",
      "Writing Line Hello World !!\n",
      " for 6 time\n",
      "Writing Line Good Bye !!\n",
      " for 5 time\n",
      "\n",
      "Writing Line YOLO SWAG !!\n",
      " for 6 time\n",
      "\n",
      "\n",
      "Writing Line Hello World !!\n",
      " for 7 time\n",
      "\n",
      "Writing Line Good Bye !!\n",
      " for 6 time\n",
      "\n",
      "Writing Line YOLO SWAG !!\n",
      " for 7 time\n",
      "\n",
      "Writing Line Hello World !!\n",
      " for 8 time\n",
      "\n",
      "Writing Line YOLO SWAG !!\n",
      " for 8 time\n",
      "\n",
      "Writing Line Hello World !!\n",
      " for 9 time\n",
      "\n",
      "Writing Line YOLO SWAG !!\n",
      " for 9 time\n",
      "Writing Line Good Bye !!\n",
      " for 7 time\n",
      "\n",
      "\n",
      "Writing Line Hello World !!\n",
      " for 10 time\n",
      "Ending thread  \n",
      "Writing Line YOLO SWAG !!\n",
      " for 10 time\n",
      "139766372734720\n",
      "\n",
      "Writing Line Good Bye !!\n",
      " for 8 time\n",
      "Ending thread  139766389520128\n",
      "\n",
      "Writing Line Good Bye !!\n",
      " for 9 time\n",
      "\n",
      "Writing Line Good Bye !!\n",
      " for 10 time\n",
      "Ending thread  139766381127424\n"
     ]
    }
   ],
   "source": [
    "complex_threaded_run()"
   ]
  },
  {
   "cell_type": "markdown",
   "metadata": {},
   "source": [
    "### One possible solution is  using a Lock"
   ]
  },
  {
   "cell_type": "code",
   "execution_count": 30,
   "metadata": {},
   "outputs": [],
   "source": [
    "from threading import Lock\n",
    "\n",
    "thread_lock = Lock()"
   ]
  },
  {
   "cell_type": "code",
   "execution_count": 31,
   "metadata": {},
   "outputs": [],
   "source": [
    "def locked_complex_function(file_name, data):\n",
    "    print(\"Starting thread \", threading.get_ident())\n",
    "    \n",
    "    print(thread_lock.acquire())\n",
    "    for idx, line in enumerate(data):\n",
    "        file_ptr = open(file_name, 'a+')\n",
    "        print(\"\\nWriting Line {} for {} time\".format(line, idx))\n",
    "        file_ptr.write(line)\n",
    "        file_ptr.close()\n",
    "    thread_lock.release()\n",
    "    \n",
    "    print(\"Ending thread \", threading.get_ident())"
   ]
  },
  {
   "cell_type": "code",
   "execution_count": 34,
   "metadata": {},
   "outputs": [],
   "source": [
    "def complex_threaded_run():\n",
    "    \n",
    "    file_name = \"locked_test.txt\"\n",
    "    \n",
    "    # Create threads with the function we created and different set of args\n",
    "    t1 = threading.Thread(target=locked_complex_function, args=(file_name, hello_lines))\n",
    "    t2 = threading.Thread(target=locked_complex_function, args=(file_name, yolo_lines))\n",
    "    t3 = threading.Thread(target=locked_complex_function, args=(file_name, goodbye_lines))\n",
    "    \n",
    "    # Start each thread\n",
    "    t1.start()\n",
    "    t2.start()\n",
    "    t3.start()\n",
    "    \n",
    "    # wait for threads to finish\n",
    "    t1.join()\n",
    "    t2.join()\n",
    "    t3.join()"
   ]
  },
  {
   "cell_type": "code",
   "execution_count": 35,
   "metadata": {},
   "outputs": [
    {
     "name": "stdout",
     "output_type": "stream",
     "text": [
      "Starting thread  139766372734720\n",
      "True\n",
      "\n",
      "Writing Line Hello World !!\n",
      " for 0 timeStarting thread  139766389520128\n",
      "\n",
      "Starting thread  139766381127424\n",
      "\n",
      "Writing Line Hello World !!\n",
      " for 1 time\n",
      "\n",
      "Writing Line Hello World !!\n",
      " for 2 time\n",
      "\n",
      "Writing Line Hello World !!\n",
      " for 3 time\n",
      "\n",
      "Writing Line Hello World !!\n",
      " for 4 time\n",
      "\n",
      "Writing Line Hello World !!\n",
      " for 5 time\n",
      "\n",
      "Writing Line Hello World !!\n",
      " for 6 time\n",
      "\n",
      "Writing Line Hello World !!\n",
      " for 7 time\n",
      "\n",
      "Writing Line Hello World !!\n",
      " for 8 time\n",
      "\n",
      "Writing Line Hello World !!\n",
      " for 9 time\n",
      "Ending thread True 139766372734720\n",
      "\n",
      "\n",
      "Writing Line YOLO SWAG !!\n",
      " for 0 time\n",
      "\n",
      "Writing Line YOLO SWAG !!\n",
      " for 1 time\n",
      "\n",
      "Writing Line YOLO SWAG !!\n",
      " for 2 time\n",
      "\n",
      "Writing Line YOLO SWAG !!\n",
      " for 3 time\n",
      "\n",
      "Writing Line YOLO SWAG !!\n",
      " for 4 time\n",
      "\n",
      "Writing Line YOLO SWAG !!\n",
      " for 5 time\n",
      "\n",
      "Writing Line YOLO SWAG !!\n",
      " for 6 time\n",
      "\n",
      "Writing Line YOLO SWAG !!\n",
      " for 7 time\n",
      "\n",
      "Writing Line YOLO SWAG !!\n",
      " for 8 time\n",
      "\n",
      "Writing Line YOLO SWAG !!\n",
      " for 9 time\n",
      "Ending thread True 139766389520128\n",
      "\n",
      "\n",
      "Writing Line Good Bye !!\n",
      " for 0 time\n",
      "\n",
      "Writing Line Good Bye !!\n",
      " for 1 time\n",
      "\n",
      "Writing Line Good Bye !!\n",
      " for 2 time\n",
      "\n",
      "Writing Line Good Bye !!\n",
      " for 3 time\n",
      "\n",
      "Writing Line Good Bye !!\n",
      " for 4 time\n",
      "\n",
      "Writing Line Good Bye !!\n",
      " for 5 time\n",
      "\n",
      "Writing Line Good Bye !!\n",
      " for 6 time\n",
      "\n",
      "Writing Line Good Bye !!\n",
      " for 7 time\n",
      "\n",
      "Writing Line Good Bye !!\n",
      " for 8 time\n",
      "\n",
      "Writing Line Good Bye !!\n",
      " for 9 time\n",
      "Ending thread  139766381127424\n"
     ]
    }
   ],
   "source": [
    "complex_threaded_run()"
   ]
  },
  {
   "cell_type": "markdown",
   "metadata": {},
   "source": [
    "## Using a Pool of Threads"
   ]
  },
  {
   "cell_type": "code",
   "execution_count": 38,
   "metadata": {},
   "outputs": [],
   "source": [
    "from concurrent.futures import ThreadPoolExecutor"
   ]
  },
  {
   "cell_type": "code",
   "execution_count": 39,
   "metadata": {},
   "outputs": [],
   "source": [
    "def pool_example():\n",
    "    with ThreadPoolExecutor(max_workers=3) as pool_worker:\n",
    "        args_list = [[1000000, 4], [10000, 2], [10000000, 5], [10, 4]]\n",
    "        for end, pow_elem in args_list:\n",
    "            exec_obj = pool_worker.submit(modified_sum_pow, 0, end, pow_elem)"
   ]
  },
  {
   "cell_type": "code",
   "execution_count": 40,
   "metadata": {},
   "outputs": [
    {
     "name": "stdout",
     "output_type": "stream",
     "text": [
      "\n",
      "Starting Function with args 0 1000000 4\n",
      "\n",
      "This is thread ID:  139766381127424\n",
      "\n",
      "Starting Function with args 0 10000 2\n",
      "\n",
      "This is thread ID:  139766389520128\n",
      "\n",
      "Sum of nos. from 0 to 10000 raised to 2 is 333283335000\n",
      "\n",
      "Starting Function with args 0 10000000 5\n",
      "\n",
      "Starting Function with args\n",
      "This is thread ID:  139766372734720\n",
      " 0 10 4\n",
      "\n",
      "This is thread ID:  139766389520128\n",
      "\n",
      "Sum of nos. from 0 to 10 raised to 4 is 15333\n",
      "\n",
      "Sum of nos. from 0 to 1000000 raised to 4 is 199999500000333333333333300000\n",
      "\n",
      "Sum of nos. from 0 to 10000000 raised to 5 is 166666616666670833333333333325000000000000\n"
     ]
    }
   ],
   "source": [
    "pool_example()"
   ]
  },
  {
   "cell_type": "code",
   "execution_count": null,
   "metadata": {},
   "outputs": [],
   "source": []
  },
  {
   "cell_type": "code",
   "execution_count": null,
   "metadata": {},
   "outputs": [],
   "source": []
  },
  {
   "cell_type": "code",
   "execution_count": null,
   "metadata": {},
   "outputs": [],
   "source": []
  },
  {
   "cell_type": "code",
   "execution_count": null,
   "metadata": {},
   "outputs": [],
   "source": []
  },
  {
   "cell_type": "code",
   "execution_count": null,
   "metadata": {},
   "outputs": [],
   "source": []
  },
  {
   "cell_type": "code",
   "execution_count": null,
   "metadata": {},
   "outputs": [],
   "source": []
  },
  {
   "cell_type": "code",
   "execution_count": null,
   "metadata": {},
   "outputs": [],
   "source": []
  }
 ],
 "metadata": {
  "kernelspec": {
   "display_name": "Python 3",
   "language": "python",
   "name": "python3"
  },
  "language_info": {
   "codemirror_mode": {
    "name": "ipython",
    "version": 3
   },
   "file_extension": ".py",
   "mimetype": "text/x-python",
   "name": "python",
   "nbconvert_exporter": "python",
   "pygments_lexer": "ipython3",
   "version": "3.7.1"
  }
 },
 "nbformat": 4,
 "nbformat_minor": 2
}
