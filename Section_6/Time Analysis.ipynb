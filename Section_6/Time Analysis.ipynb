{
 "cells": [
  {
   "cell_type": "code",
   "execution_count": 1,
   "metadata": {},
   "outputs": [],
   "source": [
    "import time"
   ]
  },
  {
   "cell_type": "markdown",
   "metadata": {},
   "source": [
    "# Using the time Module"
   ]
  },
  {
   "cell_type": "code",
   "execution_count": 2,
   "metadata": {},
   "outputs": [
    {
     "name": "stdout",
     "output_type": "stream",
     "text": [
      "Time taken is 0.023816823959350586 seconds\n"
     ]
    }
   ],
   "source": [
    "start = time.time()\n",
    "\n",
    "fact = 1\n",
    "fact_list = []\n",
    "for x in range(100000):\n",
    "    fact = fact*x\n",
    "    fact_list.append(fact)\n",
    "\n",
    "end = time.time()\n",
    "\n",
    "print(\"Time taken is {} seconds\".format(end-start))\n"
   ]
  },
  {
   "cell_type": "markdown",
   "metadata": {},
   "source": [
    "# Using Decorators"
   ]
  },
  {
   "cell_type": "code",
   "execution_count": 3,
   "metadata": {},
   "outputs": [],
   "source": [
    "def time_my_func(my_func):\n",
    "    \n",
    "    def modified_func(*args, **kwargs):\n",
    "        \n",
    "        start = time.time()\n",
    "        \n",
    "        my_func(*args, **kwargs)\n",
    "        \n",
    "        end = time.time()\n",
    "        \n",
    "        print(\"Time taken is {} seconds\".format(end - start))\n",
    "    \n",
    "    return modified_func"
   ]
  },
  {
   "cell_type": "code",
   "execution_count": 4,
   "metadata": {},
   "outputs": [],
   "source": [
    "@time_my_func\n",
    "def get_fact_arr(n):\n",
    "    fact = 1\n",
    "    fact_list = []\n",
    "    for x in range(n):\n",
    "        fact = fact * x\n",
    "        fact_list.append(fact)\n",
    "    return fact_list"
   ]
  },
  {
   "cell_type": "code",
   "execution_count": 5,
   "metadata": {},
   "outputs": [
    {
     "name": "stdout",
     "output_type": "stream",
     "text": [
      "Time taken is 0.010755777359008789 seconds\n"
     ]
    }
   ],
   "source": [
    "get_fact_arr(100000)"
   ]
  },
  {
   "cell_type": "code",
   "execution_count": 6,
   "metadata": {},
   "outputs": [
    {
     "name": "stdout",
     "output_type": "stream",
     "text": [
      "Time taken is 0.028116703033447266 seconds\n",
      "CPU times: user 28.8 ms, sys: 70 µs, total: 28.9 ms\n",
      "Wall time: 28.3 ms\n"
     ]
    }
   ],
   "source": [
    "%time x=get_fact_arr(100000)"
   ]
  },
  {
   "cell_type": "code",
   "execution_count": 7,
   "metadata": {},
   "outputs": [],
   "source": [
    "def get_fact_arr_with_sleep(n):\n",
    "    fact = 1\n",
    "    fact_list = []\n",
    "    time.sleep(3)\n",
    "    for x in range(n):\n",
    "        fact = fact * x\n",
    "        fact_list.append(fact)\n",
    "    return fact_list"
   ]
  },
  {
   "cell_type": "code",
   "execution_count": 8,
   "metadata": {},
   "outputs": [
    {
     "name": "stdout",
     "output_type": "stream",
     "text": [
      "CPU times: user 25.9 ms, sys: 3.81 ms, total: 29.7 ms\n",
      "Wall time: 3.03 s\n"
     ]
    }
   ],
   "source": [
    "%time x=get_fact_arr_with_sleep(100000)"
   ]
  },
  {
   "cell_type": "markdown",
   "metadata": {},
   "source": [
    "# Using timeit"
   ]
  },
  {
   "cell_type": "code",
   "execution_count": 9,
   "metadata": {},
   "outputs": [],
   "source": [
    "def undecorated_get_fact_arr(n):\n",
    "    fact = 1\n",
    "    fact_list = []\n",
    "    for x in range(n):\n",
    "        fact = fact * x\n",
    "        fact_list.append(fact)\n",
    "    return fact_list"
   ]
  },
  {
   "cell_type": "code",
   "execution_count": 14,
   "metadata": {},
   "outputs": [
    {
     "name": "stdout",
     "output_type": "stream",
     "text": [
      "9.49 ms ± 2.14 ms per loop (mean ± std. dev. of 7 runs, 100 loops each)\n"
     ]
    }
   ],
   "source": [
    "%timeit undecorated_get_fact_arr(10000)"
   ]
  },
  {
   "cell_type": "code",
   "execution_count": null,
   "metadata": {},
   "outputs": [],
   "source": []
  }
 ],
 "metadata": {
  "kernelspec": {
   "display_name": "Python 3",
   "language": "python",
   "name": "python3"
  },
  "language_info": {
   "codemirror_mode": {
    "name": "ipython",
    "version": 3
   },
   "file_extension": ".py",
   "mimetype": "text/x-python",
   "name": "python",
   "nbconvert_exporter": "python",
   "pygments_lexer": "ipython3",
   "version": "3.7.1"
  }
 },
 "nbformat": 4,
 "nbformat_minor": 2
}
